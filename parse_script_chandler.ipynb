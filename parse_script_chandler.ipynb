{
  "nbformat": 4,
  "nbformat_minor": 0,
  "metadata": {
    "colab": {
      "name": "parse_script_chandler.ipynb",
      "provenance": []
    },
    "kernelspec": {
      "name": "python3",
      "display_name": "Python 3"
    },
    "language_info": {
      "name": "python"
    }
  },
  "cells": [
    {
      "cell_type": "code",
      "metadata": {
        "colab": {
          "base_uri": "https://localhost:8080/"
        },
        "id": "AD4EnaICZRlO",
        "outputId": "bd6628fc-e2fa-49c0-93af-6f75d9610047"
      },
      "source": [
        "from google.colab import drive\n",
        "drive.mount('/content/drive/')\n"
      ],
      "execution_count": 16,
      "outputs": [
        {
          "output_type": "stream",
          "name": "stdout",
          "text": [
            "Drive already mounted at /content/drive/; to attempt to forcibly remount, call drive.mount(\"/content/drive/\", force_remount=True).\n"
          ]
        }
      ]
    },
    {
      "cell_type": "code",
      "metadata": {
        "id": "gtibTKAEay2A"
      },
      "source": [
        "import os\n",
        "os.chdir('/content/drive/My Drive')"
      ],
      "execution_count": 38,
      "outputs": []
    },
    {
      "cell_type": "code",
      "metadata": {
        "colab": {
          "base_uri": "https://localhost:8080/"
        },
        "id": "0xkbu3VKa81d",
        "outputId": "b2a18414-feff-4fb4-efae-a63a82b436ed"
      },
      "source": [
        "!ls\n"
      ],
      "execution_count": 47,
      "outputs": [
        {
          "output_type": "stream",
          "name": "stdout",
          "text": [
            "'ACD Problem Solving_Section D_ECE 3rd sem'\n",
            " cached\n",
            "'Chandler Bing Script.txt'\n",
            "'Getting started.pdf'\n",
            "'II PUC computer science.pdf'\n",
            " Ironman_script.txt\n",
            " kaggle\n",
            " model_train_upload_workflow.ipynb\n",
            "'newolf reserach lab, from half time'\n",
            " output-small\n",
            " parse_script_chandler.ipynb\n",
            "'Pesu email ids- Section D Ece.gform'\n",
            "'Research Lab'\n",
            " runs\n",
            "'Sec D group pic'\n",
            "\"Shreyas b'day\"\n",
            " Tony_Stark.csv\n",
            "'Untitled form (Responses).gsheet'\n"
          ]
        }
      ]
    },
    {
      "cell_type": "code",
      "metadata": {
        "id": "eDG2yKibbyHT"
      },
      "source": [
        "import re\n",
        "import pandas as pd"
      ],
      "execution_count": 48,
      "outputs": []
    },
    {
      "cell_type": "code",
      "metadata": {
        "id": "O1zT8GIFb1X4"
      },
      "source": [
        "pattern = r'([a-zA-Z\\s]+):(.+)'"
      ],
      "execution_count": 49,
      "outputs": []
    },
    {
      "cell_type": "code",
      "metadata": {
        "id": "AW0pkgx2e5KJ"
      },
      "source": [
        "data = {\n",
        "    'name':[],\n",
        "    'line':[]\n",
        "}"
      ],
      "execution_count": 50,
      "outputs": []
    },
    {
      "cell_type": "code",
      "metadata": {
        "id": "074M8mAcfBK4"
      },
      "source": [
        "with open('Chandler Bing Script.txt','rt') as file:\n",
        "  for line in file.readlines():\n",
        "    match = re.findall(pattern,line)\n",
        "    if match:\n",
        "      name,line = match[0]\n",
        "      data['name'].append(name)\n",
        "      data['line'].append(line)\n"
      ],
      "execution_count": 51,
      "outputs": []
    },
    {
      "cell_type": "code",
      "metadata": {
        "id": "m9_fuXpXfjcW"
      },
      "source": [
        "df=pd.DataFrame(data)\n"
      ],
      "execution_count": 52,
      "outputs": []
    },
    {
      "cell_type": "code",
      "metadata": {
        "colab": {
          "base_uri": "https://localhost:8080/",
          "height": 204
        },
        "id": "MbNo7h6vfnmn",
        "outputId": "c423e55f-1fff-463e-94b3-15a68c3e8548"
      },
      "source": [
        "df.head()"
      ],
      "execution_count": 53,
      "outputs": [
        {
          "output_type": "execute_result",
          "data": {
            "text/html": [
              "<div>\n",
              "<style scoped>\n",
              "    .dataframe tbody tr th:only-of-type {\n",
              "        vertical-align: middle;\n",
              "    }\n",
              "\n",
              "    .dataframe tbody tr th {\n",
              "        vertical-align: top;\n",
              "    }\n",
              "\n",
              "    .dataframe thead th {\n",
              "        text-align: right;\n",
              "    }\n",
              "</style>\n",
              "<table border=\"1\" class=\"dataframe\">\n",
              "  <thead>\n",
              "    <tr style=\"text-align: right;\">\n",
              "      <th></th>\n",
              "      <th>name</th>\n",
              "      <th>line</th>\n",
              "    </tr>\n",
              "  </thead>\n",
              "  <tbody>\n",
              "    <tr>\n",
              "      <th>0</th>\n",
              "      <td>Scene</td>\n",
              "      <td>Chandler and Monica's, Chandler is sitting at...</td>\n",
              "    </tr>\n",
              "    <tr>\n",
              "      <th>1</th>\n",
              "      <td>Chandler</td>\n",
              "      <td>Ohh. Mmm.</td>\n",
              "    </tr>\n",
              "    <tr>\n",
              "      <th>2</th>\n",
              "      <td>Rachel</td>\n",
              "      <td>(Comes in the front door and walks towards th...</td>\n",
              "    </tr>\n",
              "    <tr>\n",
              "      <th>3</th>\n",
              "      <td>Chandler</td>\n",
              "      <td>Hey, you have got to try this cheesecake.</td>\n",
              "    </tr>\n",
              "    <tr>\n",
              "      <th>4</th>\n",
              "      <td>Rachel</td>\n",
              "      <td>Oh, y'know I'm not that much of a sweet tooth...</td>\n",
              "    </tr>\n",
              "  </tbody>\n",
              "</table>\n",
              "</div>"
            ],
            "text/plain": [
              "       name                                               line\n",
              "0     Scene   Chandler and Monica's, Chandler is sitting at...\n",
              "1  Chandler                                          Ohh. Mmm.\n",
              "2    Rachel   (Comes in the front door and walks towards th...\n",
              "3  Chandler          Hey, you have got to try this cheesecake.\n",
              "4    Rachel   Oh, y'know I'm not that much of a sweet tooth..."
            ]
          },
          "metadata": {},
          "execution_count": 53
        }
      ]
    },
    {
      "cell_type": "code",
      "metadata": {
        "colab": {
          "base_uri": "https://localhost:8080/"
        },
        "id": "4KzGsKlof_3I",
        "outputId": "7f558a16-84c8-4f55-c78c-9f13902a5e6e"
      },
      "source": [
        "sum(df['name'] == 'Chandler')"
      ],
      "execution_count": 54,
      "outputs": [
        {
          "output_type": "execute_result",
          "data": {
            "text/plain": [
              "363"
            ]
          },
          "metadata": {},
          "execution_count": 54
        }
      ]
    },
    {
      "cell_type": "code",
      "metadata": {
        "colab": {
          "base_uri": "https://localhost:8080/"
        },
        "id": "EGd9u3tljR4l",
        "outputId": "c0fb9d36-3c93-45e4-c7b4-d21121696803"
      },
      "source": [
        "len(df)"
      ],
      "execution_count": 55,
      "outputs": [
        {
          "output_type": "execute_result",
          "data": {
            "text/plain": [
              "2470"
            ]
          },
          "metadata": {},
          "execution_count": 55
        }
      ]
    },
    {
      "cell_type": "code",
      "metadata": {
        "id": "5pAC6X_djU7_"
      },
      "source": [
        "df.to_csv('Chandler_Bing.csv',index = False)"
      ],
      "execution_count": 56,
      "outputs": []
    },
    {
      "cell_type": "code",
      "metadata": {
        "id": "DDISTytIievn"
      },
      "source": [
        ""
      ],
      "execution_count": null,
      "outputs": []
    }
  ]
}